{
 "cells": [
  {
   "cell_type": "code",
   "execution_count": 1,
   "metadata": {},
   "outputs": [],
   "source": [
    "import pandas as pd\n",
    "import numpy as np\n",
    "import os\n",
    "import matplotlib.pyplot as plt\n",
    "from utility import *\n",
    "from hmmlearn import hmm\n",
    "import seaborn as sns\n",
    "import pickle\n",
    "import matplotlib.cm as cm\n",
    "import networkx as nx\n",
    "%matplotlib inline\n",
    "\n",
    "modelFolder='/Users/yyu/Documents/Psychology/insight/EEG_data/results/model_cv/'\n",
    "dataFolder='/Users/yyu/Documents/Psychology/insight/EEG_data/processed/cra/'"
   ]
  },
  {
   "cell_type": "code",
   "execution_count": 2,
   "metadata": {},
   "outputs": [],
   "source": [
    "featureList=[\"{:.1f},{:.1f}\".format(c,f) for c in includeSources for f in includeFreqs]"
   ]
  },
  {
   "cell_type": "markdown",
   "metadata": {},
   "source": [
    "# Make split"
   ]
  },
  {
   "cell_type": "code",
   "execution_count": 20,
   "metadata": {},
   "outputs": [],
   "source": [
    "#split into 5 fold for cross validation\n",
    "nfold=5\n",
    "splitdf=pd.DataFrame()\n",
    "for subid in os.listdir(dataFolder):\n",
    "    if not os.path.isdir(dataFolder+subid):continue\n",
    "    trialdict={}\n",
    "    for type in ['ANA','INS','TO']:\n",
    "        trialdict[type]=[]\n",
    "        for f in glob.glob(dataFolder+subid+'*/*_'+type+'_*'):\n",
    "            filename=(f.split('/')[-1])\n",
    "            trialdict[type].append(filename.split('.')[0].split('_')[-1])\n",
    "        split=np.array_split(trialdict[type], nfold)\n",
    "        for i in range(nfold):\n",
    "            splitdf=pd.concat([splitdf,pd.DataFrame({'id':subid,'type':type,'fold':i,'trialID':split[i]})])"
   ]
  },
  {
   "cell_type": "code",
   "execution_count": 21,
   "metadata": {},
   "outputs": [],
   "source": [
    "splitdf.to_csv(dataFolder+'split.csv',index=None)"
   ]
  },
  {
   "cell_type": "markdown",
   "metadata": {},
   "source": [
    "# Test"
   ]
  },
  {
   "cell_type": "code",
   "execution_count": 3,
   "metadata": {},
   "outputs": [
    {
     "data": {
      "text/html": [
       "<div>\n",
       "<style scoped>\n",
       "    .dataframe tbody tr th:only-of-type {\n",
       "        vertical-align: middle;\n",
       "    }\n",
       "\n",
       "    .dataframe tbody tr th {\n",
       "        vertical-align: top;\n",
       "    }\n",
       "\n",
       "    .dataframe thead th {\n",
       "        text-align: right;\n",
       "    }\n",
       "</style>\n",
       "<table border=\"1\" class=\"dataframe\">\n",
       "  <thead>\n",
       "    <tr style=\"text-align: right;\">\n",
       "      <th></th>\n",
       "      <th>id</th>\n",
       "      <th>type</th>\n",
       "      <th>fold</th>\n",
       "      <th>trialID</th>\n",
       "    </tr>\n",
       "  </thead>\n",
       "  <tbody>\n",
       "    <tr>\n",
       "      <td>0</td>\n",
       "      <td>104</td>\n",
       "      <td>ANA</td>\n",
       "      <td>0</td>\n",
       "      <td>17</td>\n",
       "    </tr>\n",
       "    <tr>\n",
       "      <td>1</td>\n",
       "      <td>104</td>\n",
       "      <td>ANA</td>\n",
       "      <td>0</td>\n",
       "      <td>16</td>\n",
       "    </tr>\n",
       "    <tr>\n",
       "      <td>2</td>\n",
       "      <td>104</td>\n",
       "      <td>ANA</td>\n",
       "      <td>0</td>\n",
       "      <td>14</td>\n",
       "    </tr>\n",
       "    <tr>\n",
       "      <td>3</td>\n",
       "      <td>104</td>\n",
       "      <td>ANA</td>\n",
       "      <td>0</td>\n",
       "      <td>15</td>\n",
       "    </tr>\n",
       "    <tr>\n",
       "      <td>4</td>\n",
       "      <td>104</td>\n",
       "      <td>ANA</td>\n",
       "      <td>1</td>\n",
       "      <td>11</td>\n",
       "    </tr>\n",
       "  </tbody>\n",
       "</table>\n",
       "</div>"
      ],
      "text/plain": [
       "    id type  fold  trialID\n",
       "0  104  ANA     0       17\n",
       "1  104  ANA     0       16\n",
       "2  104  ANA     0       14\n",
       "3  104  ANA     0       15\n",
       "4  104  ANA     1       11"
      ]
     },
     "execution_count": 3,
     "metadata": {},
     "output_type": "execute_result"
    }
   ],
   "source": [
    "splitdf=pd.read_csv(dataFolder+'split.csv')\n",
    "splitdf.head()"
   ]
  },
  {
   "cell_type": "code",
   "execution_count": 8,
   "metadata": {
    "scrolled": true
   },
   "outputs": [
    {
     "name": "stdout",
     "output_type": "stream",
     "text": [
      "[-1.50905428e+08 -1.50902502e+08]\n",
      "0 200485 -40538653.70654826\n",
      "[-1.52220673e+08 -1.52218948e+08]\n",
      "1 193821 -39220234.81376308\n",
      "[-1.52704059e+08 -1.52695864e+08]\n",
      "2 191371 -38707781.05925246\n",
      "[-1.53759791e+08 -1.53753787e+08]\n",
      "3 186286 -37667354.103037745\n",
      "[-1.55735918e+08 -1.55734228e+08]\n",
      "4 176542 -35704117.11251\n"
     ]
    }
   ],
   "source": [
    "total=0\n",
    "nstate='12'\n",
    "for file in ['20_iter_30_0',\n",
    "            '120_iter_30_1',\n",
    "            '220_iter_30_2',\n",
    "            '320_iter_30_3',\n",
    "            '420_iter_30_4']:\n",
    "    foldIndex=int(file[-1])\n",
    "    #with initialization\n",
    "    with open(modelFolder+nstate+'_full_'+file+'.pkl', \"rb\") as file: \n",
    "        model=pickle.load(file) \n",
    "  \n",
    "    print(np.round(model.monitor_.history))\n",
    "\n",
    "    nlist=[]\n",
    "    featureDf=pd.DataFrame()\n",
    "    for idFolder in os.listdir(dataFolder):\n",
    "        if not os.path.isdir(dataFolder+idFolder):continue\n",
    "        for type in ['ANA','INS','TO']:\n",
    "            excludeList=splitdf[(splitdf['id']==int(idFolder))&(splitdf['type']==type)&(splitdf['fold']==foldIndex)]['trialID'].values\n",
    "            for f in glob.glob(dataFolder+idFolder+'*/*_'+type+'_*'):\n",
    "                if f.split('.')[1]!='csv':continue\n",
    "                filename = (f.split('/')[-1])\n",
    "                if not (int(filename.split('.')[0].split('_')[-1]) in excludeList): continue\n",
    "                tmp = pd.read_csv(f, index_col=None)\n",
    "                nlist.append(len(tmp))\n",
    "                featureDf=pd.concat([featureDf,tmp[featureList]])\n",
    "    tmp=model.score_samples(featureDf[featureList].values, lengths=nlist)\n",
    "    print(foldIndex,len(featureDf),tmp[0])\n",
    "    total=total+tmp[0]\n",
    "    "
   ]
  },
  {
   "cell_type": "code",
   "execution_count": 9,
   "metadata": {},
   "outputs": [
    {
     "data": {
      "text/plain": [
       "-191838140.79511154"
      ]
     },
     "execution_count": 9,
     "metadata": {},
     "output_type": "execute_result"
    }
   ],
   "source": [
    "total"
   ]
  },
  {
   "cell_type": "code",
   "execution_count": 12,
   "metadata": {},
   "outputs": [
    {
     "data": {
      "text/plain": [
       "200485"
      ]
     },
     "execution_count": 12,
     "metadata": {},
     "output_type": "execute_result"
    }
   ],
   "source": [
    "len(featureDf)"
   ]
  },
  {
   "cell_type": "code",
   "execution_count": 23,
   "metadata": {},
   "outputs": [
    {
     "data": {
      "text/plain": [
       "(-36467871.83082484,\n",
       " array([[1.64743759e-03, 1.40686473e-07, 9.96597602e-01, 8.36572280e-05,\n",
       "         1.67116228e-03],\n",
       "        [1.00783147e-04, 7.35832835e-10, 9.99583005e-01, 3.24750187e-06,\n",
       "         3.12963658e-04],\n",
       "        [4.01027630e-04, 3.81614526e-09, 9.78558376e-01, 7.86676247e-05,\n",
       "         2.09619245e-02],\n",
       "        ...,\n",
       "        [1.97316916e-02, 6.84476523e-06, 2.96327726e-03, 5.64694030e-04,\n",
       "         9.76733492e-01],\n",
       "        [4.17605646e-02, 2.15943222e-04, 5.30112618e-03, 3.30837221e-03,\n",
       "         9.49413994e-01],\n",
       "        [5.13718997e-02, 8.60763987e-04, 9.68025536e-03, 1.67981470e-02,\n",
       "         9.21288934e-01]]))"
      ]
     },
     "execution_count": 23,
     "metadata": {},
     "output_type": "execute_result"
    }
   ],
   "source": [
    "model.score_samples(featureDf[featureList].values, lengths=nlist)"
   ]
  },
  {
   "cell_type": "code",
   "execution_count": 25,
   "metadata": {},
   "outputs": [
    {
     "name": "stdout",
     "output_type": "stream",
     "text": [
      "[-1.37173763e+08 -1.37171958e+08]\n"
     ]
    }
   ],
   "source": [
    "foldIndex=1\n",
    "\n",
    "#with initialization\n",
    "with open(modelFolder+'5_full_1_iter_10_'+str(foldIndex)+'.pkl', \"rb\") as file: \n",
    "    model=pickle.load(file)\n",
    "print(np.round(model.monitor_.history))\n"
   ]
  },
  {
   "cell_type": "code",
   "execution_count": 26,
   "metadata": {},
   "outputs": [
    {
     "data": {
      "text/plain": [
       "(-36432058.993409045,\n",
       " array([[2.97578247e-03, 1.00645352e-03, 9.95987667e-01, 1.27860668e-07,\n",
       "         2.99689876e-05],\n",
       "        [7.97505387e-05, 2.29472128e-04, 9.99689011e-01, 9.95160849e-10,\n",
       "         1.76544700e-06],\n",
       "        [2.40794620e-04, 2.49620065e-02, 9.74760076e-01, 3.76787070e-09,\n",
       "         3.71190303e-05],\n",
       "        ...,\n",
       "        [1.63968906e-03, 9.98070724e-01, 2.07251883e-04, 3.30258718e-06,\n",
       "         7.90325420e-05],\n",
       "        [5.80604151e-03, 9.92993726e-01, 4.42278300e-04, 1.75738538e-04,\n",
       "         5.82215875e-04],\n",
       "        [1.30162406e-02, 9.76488256e-01, 2.60087536e-03, 7.68866279e-04,\n",
       "         7.12576171e-03]]))"
      ]
     },
     "execution_count": 26,
     "metadata": {},
     "output_type": "execute_result"
    }
   ],
   "source": [
    "model.score_samples(featureDf[featureList].values, lengths=nlist)"
   ]
  },
  {
   "cell_type": "code",
   "execution_count": null,
   "metadata": {},
   "outputs": [],
   "source": []
  }
 ],
 "metadata": {
  "kernelspec": {
   "display_name": "Python 3",
   "language": "python",
   "name": "python3"
  },
  "language_info": {
   "codemirror_mode": {
    "name": "ipython",
    "version": 3
   },
   "file_extension": ".py",
   "mimetype": "text/x-python",
   "name": "python",
   "nbconvert_exporter": "python",
   "pygments_lexer": "ipython3",
   "version": "3.7.4"
  }
 },
 "nbformat": 4,
 "nbformat_minor": 2
}
